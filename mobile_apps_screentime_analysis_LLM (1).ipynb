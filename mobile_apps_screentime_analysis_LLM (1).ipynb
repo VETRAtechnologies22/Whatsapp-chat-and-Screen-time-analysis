{
  "nbformat": 4,
  "nbformat_minor": 0,
  "metadata": {
    "colab": {
      "provenance": []
    },
    "kernelspec": {
      "name": "python3",
      "display_name": "Python 3"
    },
    "language_info": {
      "name": "python"
    }
  },
  "cells": [
    {
      "cell_type": "code",
      "execution_count": null,
      "metadata": {
        "colab": {
          "base_uri": "https://localhost:8080/"
        },
        "id": "6d9XdZsx_6wn",
        "outputId": "63abdb34-780d-48e5-e39f-e7feb8e08d16"
      },
      "outputs": [
        {
          "output_type": "execute_result",
          "data": {
            "text/plain": [
              "[{'app': 'Instagram', 'duration_minutes': 120},\n",
              " {'app': 'YouTube', 'duration_minutes': 90},\n",
              " {'app': 'Chrome', 'duration_minutes': 45},\n",
              " {'app': 'WhatsApp', 'duration_minutes': 30},\n",
              " {'app': 'Slack', 'duration_minutes': 25}]"
            ]
          },
          "metadata": {},
          "execution_count": 1
        }
      ],
      "source": [
        "[\n",
        "  {\"app\": \"Instagram\", \"duration_minutes\": 120},\n",
        "  {\"app\": \"YouTube\", \"duration_minutes\": 90},\n",
        "  {\"app\": \"Chrome\", \"duration_minutes\": 45},\n",
        "  {\"app\": \"WhatsApp\", \"duration_minutes\": 30},\n",
        "  {\"app\": \"Slack\", \"duration_minutes\": 25}\n",
        "]\n"
      ]
    },
    {
      "cell_type": "code",
      "source": [
        "# 1. Imports and Setup\n",
        "import pandas as pd\n",
        "from sklearn.preprocessing import LabelEncoder, StandardScaler\n",
        "from sklearn.model_selection import train_test_split\n",
        "import openai\n",
        "import os\n",
        "\n",
        "# --- Load dataset ---\n",
        "df = pd.read_csv('/content/screentime_analysis.csv')  # Update path as needed\n",
        "df['Date'] = pd.to_datetime(df['Date'])\n",
        "\n",
        "# --- Label Encoding ---\n",
        "label_encoder = LabelEncoder()\n",
        "df['App_Encoded'] = label_encoder.fit_transform(df['App'])\n",
        "app_mapping = dict(zip(label_encoder.classes_, label_encoder.transform(label_encoder.classes_)))\n",
        "\n",
        "# --- Feature Engineering ---\n",
        "df['Day_of_Week'] = df['Date'].dt.dayofweek\n",
        "df['Day_of_Month'] = df['Date'].dt.day\n",
        "\n",
        "# Keep a copy for summarization\n",
        "df_original = df.copy()\n",
        "\n",
        "# --- Scaling ---\n",
        "scaler = StandardScaler()\n",
        "scale_cols = ['Usage (minutes)', 'Notifications', 'Times Opened', 'Day_of_Week', 'Day_of_Month']\n",
        "df[scale_cols] = scaler.fit_transform(df[scale_cols])\n",
        "\n",
        "# --- Optional: Train-test split ---\n",
        "X = df[['App_Encoded', 'Notifications', 'Times Opened', 'Day_of_Week', 'Day_of_Month']]\n",
        "y = df['Usage (minutes)']\n",
        "X_train, X_test, y_train, y_test = train_test_split(X, y, test_size=0.2, random_state=42)\n",
        "\n",
        "# --- Create summary for LLM using original values ---\n",
        "summary = (\n",
        "    df_original.groupby(\"App\")[['Usage (minutes)', 'Notifications', 'Times Opened']]\n",
        "    .agg({\n",
        "        'Usage (minutes)': 'sum',\n",
        "        'Notifications': 'mean',\n",
        "        'Times Opened': 'mean'\n",
        "    })\n",
        "    .sort_values(\"Usage (minutes)\", ascending=False)\n",
        "    .round(2)\n",
        ")\n",
        "\n",
        "summary_text = summary.to_string()\n",
        "\n",
        "# --- Generate prompt ---\n",
        "prompt = f\"\"\"\n",
        "You are a digital wellbeing coach.\n",
        "\n",
        "Here's the mobile app usage summary:\n",
        "{summary_text}\n",
        "\n",
        "Based on this data:\n",
        "1. Identify the most time-consuming apps.\n",
        "2. Suggest usage patterns based on notifications and app opens.\n",
        "3. Recommend ways to improve screen time habits.\n",
        "4. Offer tips for better digital balance.\n",
        "\"\"\"\n",
        "\n",
        "# --- OpenAI API Call ---\n",
        "openai.api_key = os.getenv(\"OPENAI_API_KEY\")  # Better to use environment variable\n",
        "\n",
        "try:\n",
        "    response = openai.ChatCompletion.create(\n",
        "        model=\"gpt-4\",  # Or \"gpt-3.5-turbo\"\n",
        "        messages=[\n",
        "            {\"role\": \"system\", \"content\": \"You are a helpful digital wellbeing assistant.\"},\n",
        "            {\"role\": \"user\", \"content\": prompt}\n",
        "        ],\n",
        "        temperature=0.7\n",
        "    )\n",
        "\n",
        "    # --- Display Result ---\n",
        "    print(\"\\n--- Digital Wellbeing Insights ---\\n\")\n",
        "    print(response.choices[0].message.content)\n",
        "\n",
        "except Exception as e:\n",
        "    print(f\"Error calling OpenAI API: {e}\")"
      ],
      "metadata": {
        "colab": {
          "base_uri": "https://localhost:8080/"
        },
        "id": "J31k84vFAKcO",
        "outputId": "18aad7e7-d5f8-4a6d-a406-4008e1eb9654"
      },
      "execution_count": null,
      "outputs": [
        {
          "output_type": "stream",
          "name": "stdout",
          "text": [
            "Error calling OpenAI API: \n",
            "\n",
            "You tried to access openai.ChatCompletion, but this is no longer supported in openai>=1.0.0 - see the README at https://github.com/openai/openai-python for the API.\n",
            "\n",
            "You can run `openai migrate` to automatically upgrade your codebase to use the 1.0.0 interface. \n",
            "\n",
            "Alternatively, you can pin your installation to the old version, e.g. `pip install openai==0.28`\n",
            "\n",
            "A detailed migration guide is available here: https://github.com/openai/openai-python/discussions/742\n",
            "\n"
          ]
        }
      ]
    },
    {
      "cell_type": "code",
      "source": [
        "import pandas as pd\n",
        "import numpy as np\n",
        "\n",
        "# Set random seed for reproducibility\n",
        "np.random.seed(42)\n",
        "\n",
        "# Define list of common apps and categories\n",
        "apps = ['Instagram', 'YouTube', 'WhatsApp', 'Facebook', 'Gmail', 'Slack', 'TikTok', 'Chrome', 'Spotify', 'Calendar']\n",
        "\n",
        "# Generate 30 days of data\n",
        "dates = pd.date_range(start='2024-04-01', periods=30)\n",
        "\n",
        "# Create synthetic usage data\n",
        "data = []\n",
        "for date in dates:\n",
        "    for app in apps:\n",
        "        usage = np.random.poisson(lam=30) if app in ['Instagram', 'YouTube', 'TikTok'] else np.random.poisson(lam=10)\n",
        "        notifications = np.random.poisson(lam=5)\n",
        "        times_opened = np.random.poisson(lam=3)\n",
        "        data.append([date, app, usage, notifications, times_opened])\n",
        "\n",
        "# Create DataFrame\n",
        "df = pd.DataFrame(data, columns=['Date', 'App', 'Usage (minutes)', 'Notifications', 'Times Opened'])\n",
        "\n",
        "# Show the first few rows\n",
        "print(df.head())\n",
        "\n",
        "# Save to CSV if needed\n",
        "# df.to_csv(\"screentime_analysis.csv\", index=False)\n"
      ],
      "metadata": {
        "id": "u4RUKTZ1DreH",
        "outputId": "b790b0a3-2c4e-4ff3-fcc9-e712ea48d027",
        "colab": {
          "base_uri": "https://localhost:8080/"
        }
      },
      "execution_count": null,
      "outputs": [
        {
          "output_type": "stream",
          "name": "stdout",
          "text": [
            "        Date        App  Usage (minutes)  Notifications  Times Opened\n",
            "0 2024-04-01  Instagram               28              4             3\n",
            "1 2024-04-01    YouTube               25              4             2\n",
            "2 2024-04-01   WhatsApp                9              4             2\n",
            "3 2024-04-01   Facebook               13              3             1\n",
            "4 2024-04-01      Gmail               15              9             2\n"
          ]
        }
      ]
    }
  ]
}